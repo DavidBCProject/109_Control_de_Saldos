{
 "cells": [
  {
   "cell_type": "code",
   "execution_count": 42,
   "metadata": {},
   "outputs": [],
   "source": [
    "import pandas as pd\n",
    "import os\n",
    "import fitz #para número de páginas pdf\n",
    "import tabula #para obtener datos del pdf\n",
    "import subprocess"
   ]
  },
  {
   "cell_type": "code",
   "execution_count": 43,
   "metadata": {},
   "outputs": [],
   "source": [
    "input = r'C:\\David\\Desarrollos\\02_Procesos\\09_Control_de_Saldos\\02_Python\\01_Input'\n",
    "output = r'C:\\David\\Desarrollos\\02_Procesos\\09_Control_de_Saldos\\02_Python\\02_Output'"
   ]
  },
  {
   "cell_type": "code",
   "execution_count": 44,
   "metadata": {},
   "outputs": [],
   "source": [
    "archivos_xls = [file.name for file in os.scandir(input) if file.name.endswith('.xls')]\n",
    "archivos_pdf = [file.name for file in os.scandir(input) if file.name.endswith('.pdf')]"
   ]
  },
  {
   "cell_type": "code",
   "execution_count": 45,
   "metadata": {},
   "outputs": [],
   "source": [
    "def obtener_numero_paginas_pdf(archivo):\n",
    "    pdf_document = fitz.open(archivo)\n",
    "    return pdf_document.page_count"
   ]
  },
  {
   "cell_type": "code",
   "execution_count": 46,
   "metadata": {},
   "outputs": [],
   "source": [
    "def tratar_df_brutos_de_pdf(max_proc, contable_null, df):\n",
    "    print(max_proc, contable_null)\n",
    "\n",
    "    if max_proc == 5 and not contable_null:\n",
    "        df_columnas_con_nombres = df[['PROC.', 'SUC-AGE', 'NUM OP', 'HORA', 'ORIGEN', 'TIPO', 'CONTABLE']]\n",
    "        df_columnas_por_ubicacion = df.iloc[:, [1, -2]]\n",
    "        return pd.concat([df_columnas_con_nombres, df_columnas_por_ubicacion], axis = 1)\n",
    "    \n",
    "    if max_proc == 5 and contable_null:\n",
    "        df = df.drop(columns = ['CONTABLE'])\n",
    "        df = df.rename(columns = {df.columns[-1]: 'CONTABLE'})\n",
    "        df_columnas_con_nombres = df[['PROC.', 'SUC-AGE', 'NUM OP', 'HORA', 'ORIGEN', 'TIPO', 'CONTABLE']]\n",
    "        df_columnas_por_ubicacion = df.iloc[:, [1, -2]]\n",
    "        return pd.concat([df_columnas_con_nombres, df_columnas_por_ubicacion], axis = 1)\n",
    "    \n",
    "    if max_proc != 5 and not contable_null:\n",
    "        df['Columna 2'] = df['PROC.'].str[5:]\n",
    "        df['PROC.'] = df['PROC.'].str[:5]\n",
    "        df_columnas_con_nombres = df[['PROC.', 'SUC-AGE', 'NUM OP', 'HORA', 'ORIGEN', 'TIPO', 'CONTABLE', 'Columna 2']]\n",
    "        df_columnas_por_ubicacion = df.iloc[:, [-3]]\n",
    "        return pd.concat([df_columnas_con_nombres, df_columnas_por_ubicacion], axis = 1)\n",
    "    \n",
    "    if max_proc != 5 and contable_null:\n",
    "        #v Inicio de parte no testeada por caso no presentado (se incluye porque el caso en el que max_prox == 5 y contable_null es True sí se ha dado)\n",
    "        df = df.drop(columns = ['CONTABLE'])\n",
    "        df = df.rename(columns = {df.columns[-1]: 'CONTABLE'})     \n",
    "        #^ Fin de parte no testeada por caso no presentado        \n",
    "        df['Columna 2'] = df['PROC.'].str[5:]\n",
    "        df['PROC.'] = df['PROC.'].str[:5]\n",
    "        df_columnas_con_nombres = df[['PROC.', 'SUC-AGE', 'NUM OP', 'HORA', 'ORIGEN', 'TIPO', 'CONTABLE', 'Columna 2']]\n",
    "        df_columnas_por_ubicacion = df.iloc[:, [-3]]\n",
    "        return pd.concat([df_columnas_con_nombres, df_columnas_por_ubicacion], axis = 1)"
   ]
  },
  {
   "cell_type": "code",
   "execution_count": 47,
   "metadata": {},
   "outputs": [],
   "source": [
    "def generar_dataframe_desde_pagina_pdf(archivo, pagina):\n",
    "    if pagina == 1:\n",
    "        df = tabula.read_pdf(archivo, pages=f'{pagina}', stream=True, encoding='ISO-8859-1', area = (350, 0, 842, 595))[0]\n",
    "        max_proc = df['PROC.'].str.len().max()\n",
    "        contable_null = (pd.isna(df['CONTABLE'].unique())[0] == True)\n",
    "        df = tratar_df_brutos_de_pdf(max_proc, contable_null, df)\n",
    "        df = df.rename(columns = {df.columns[-2]: 'DESCRIPCIÓN', df.columns[-1]: 'CARGO_ABONO', 'PROC.': 'FECHA', 'CONTABLE': 'SALDO CONTABLE'})        \n",
    "        return df[['FECHA', 'DESCRIPCIÓN', 'SUC-AGE', 'NUM OP', 'HORA', 'ORIGEN', 'TIPO', 'CARGO_ABONO', 'SALDO CONTABLE']]\n",
    "    \n",
    "    if pagina > 1:\n",
    "        df = tabula.read_pdf(archivo, pages=f'{pagina}', stream=True, encoding='ISO-8859-1', area = (195, 0, 842, 595))[0]\n",
    "        df = df[~(df['PROC.'].isna())] #Lee siempre la primera línea (no encabezados) como nulo\n",
    "        max_proc = df['PROC.'].str.len().max()\n",
    "        contable_null = (pd.isna(df['CONTABLE'].unique())[0] == True)\n",
    "        df = tratar_df_brutos_de_pdf(max_proc, contable_null, df)\n",
    "        df = df.rename(columns = {df.columns[-2]: 'DESCRIPCIÓN', df.columns[-1]: 'CARGO_ABONO', 'PROC.': 'FECHA', 'CONTABLE': 'SALDO CONTABLE'})  \n",
    "        return df[['FECHA', 'DESCRIPCIÓN', 'SUC-AGE', 'NUM OP', 'HORA', 'ORIGEN', 'TIPO', 'CARGO_ABONO', 'SALDO CONTABLE']]\n",
    "        "
   ]
  },
  {
   "cell_type": "code",
   "execution_count": 48,
   "metadata": {},
   "outputs": [],
   "source": [
    "def generar_dataframe_desde_pdf(archivo):\n",
    "    ruta_archivo = os.path.join(input, archivo)\n",
    "    numero_paginas_pdf = obtener_numero_paginas_pdf(ruta_archivo)\n",
    "    dfs_temp = []\n",
    "    #Es numero_paginas_pdf - 1 porque la última página de los pdf siempre muestra información no relevante\n",
    "    for pagina in range(numero_paginas_pdf - 1):\n",
    "        #Es pagina + 1 porque el pdf empieza desde página 1 y el range empieza desde 0\n",
    "        if pagina == 0:\n",
    "            df_temp_1 = generar_dataframe_desde_pagina_pdf(ruta_archivo, pagina + 1)\n",
    "            dfs_temp.append(df_temp_1)\n",
    "        else:\n",
    "            df_temp_2 = generar_dataframe_desde_pagina_pdf(ruta_archivo, pagina + 1)\n",
    "            dfs_temp.append(df_temp_2)\n",
    "    df = pd.concat(dfs_temp)\n",
    "    return df"
   ]
  },
  {
   "cell_type": "code",
   "execution_count": 49,
   "metadata": {},
   "outputs": [],
   "source": [
    "def corregir_xls(archivo):\n",
    "\n",
    "    # Definir el script de PowerShell como una cadena de texto\n",
    "    powershell_script = f\"\"\"\n",
    "    $OriginalFilePath = \"{input + '\\\\' + archivo}\"\n",
    "    $NewFilePath = \"{input + '\\\\' + archivo + 'x'}\"\n",
    "    $Excel = New-Object -ComObject Excel.Application\n",
    "    $Excel.Visible = $false\n",
    "    $Workbook = $Excel.Workbooks.Open($OriginalFilePath)\n",
    "    $Workbook.SaveAs($NewFilePath, 51)\n",
    "    $Workbook.Close()\n",
    "    $Excel.Quit()\n",
    "    [System.Runtime.Interopservices.Marshal]::ReleaseComObject($Excel) | Out-Null\n",
    "    [System.Runtime.Interopservices.Marshal]::ReleaseComObject($Workbook) | Out-Null\n",
    "    \"\"\"\n",
    "\n",
    "    # Ejecutar el script de PowerShell\n",
    "    subprocess.run([\"powershell\", \"-Command\", powershell_script])\n",
    "\n",
    "    return archivo + 'x'"
   ]
  },
  {
   "cell_type": "code",
   "execution_count": 50,
   "metadata": {},
   "outputs": [],
   "source": [
    "def generar_dataframe_desde_xls(archivo):\n",
    "    nuevo_archivo = corregir_xls(archivo)\n",
    "    df = pd.read_excel(os.path.join(input, nuevo_archivo), skiprows = 24)\n",
    "    return df[df['FECHA OPER.'].str.len() == 6]"
   ]
  },
  {
   "cell_type": "code",
   "execution_count": 51,
   "metadata": {},
   "outputs": [
    {
     "name": "stderr",
     "output_type": "stream",
     "text": [
      "Failed to import jpype dependencies. Fallback to subprocess.\n",
      "No module named 'jpype'\n"
     ]
    },
    {
     "name": "stdout",
     "output_type": "stream",
     "text": [
      "5 False\n",
      "5 False\n",
      "40 False\n",
      "5 False\n",
      "5 False\n",
      "5 False\n",
      "5 False\n",
      "5 False\n",
      "40 False\n",
      "5 False\n",
      "5 False\n",
      "5 False\n",
      "5 False\n",
      "5 False\n",
      "31 False\n",
      "5 False\n",
      "5 True\n",
      "5 False\n"
     ]
    }
   ],
   "source": [
    "for archivo in archivos_pdf:\n",
    "    empresa_moneda = archivo[-11:-4]\n",
    "\n",
    "    match empresa_moneda:\n",
    "        case 'BPO PEN':\n",
    "            df_BCP_BPO_PEN = generar_dataframe_desde_pdf(archivo)\n",
    "        case 'BPO USD':\n",
    "            df_BCP_BPO_USD = generar_dataframe_desde_pdf(archivo)\n",
    "        case 'SDP USD':\n",
    "            df_BCP_SDP_USD = generar_dataframe_desde_pdf(archivo)\n",
    "        case 'SDP PEN':\n",
    "            df_BCP_SDP_PEN = generar_dataframe_desde_pdf(archivo)\n",
    "        case _:\n",
    "            print('Se ha detectado un caso desconocido de EMPRESA_MONEDA en los archivos pdf')"
   ]
  },
  {
   "cell_type": "code",
   "execution_count": 52,
   "metadata": {},
   "outputs": [],
   "source": [
    "for archivo in archivos_xls:\n",
    "    empresa_moneda = archivo[-11:-4]\n",
    "\n",
    "    match empresa_moneda:\n",
    "        case 'SDP PEN':\n",
    "            df_BBVA_SDP_PEN = generar_dataframe_desde_xls(archivo)\n",
    "        case 'SDP USD':\n",
    "            df_BBVA_SDP_USD = generar_dataframe_desde_xls(archivo)\n",
    "        case _:\n",
    "            print('Se ha detectado un caso desconocido de EMPRESA_MONEDA en los archivos xls')\n"
   ]
  },
  {
   "cell_type": "code",
   "execution_count": null,
   "metadata": {},
   "outputs": [],
   "source": [
    "df_BCP_BPO_PEN\n",
    "df_BCP_BPO_USD\n",
    "df_BCP_SDP_USD\n",
    "df_BCP_SDP_PEN\n",
    "df_BBVA_SDP_PEN\n",
    "df_BBVA_SDP_USD"
   ]
  },
  {
   "cell_type": "code",
   "execution_count": null,
   "metadata": {},
   "outputs": [],
   "source": []
  }
 ],
 "metadata": {
  "kernelspec": {
   "display_name": "Python 3",
   "language": "python",
   "name": "python3"
  },
  "language_info": {
   "codemirror_mode": {
    "name": "ipython",
    "version": 3
   },
   "file_extension": ".py",
   "mimetype": "text/x-python",
   "name": "python",
   "nbconvert_exporter": "python",
   "pygments_lexer": "ipython3",
   "version": "3.12.4"
  }
 },
 "nbformat": 4,
 "nbformat_minor": 2
}

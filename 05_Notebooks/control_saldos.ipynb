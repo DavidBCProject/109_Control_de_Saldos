{
 "cells": [
  {
   "cell_type": "code",
   "execution_count": 1,
   "metadata": {},
   "outputs": [],
   "source": [
    "import pandas as pd\n",
    "import os\n",
    "import fitz #para número de páginas pdf\n",
    "import tabula #para obtener datos del pd\n",
    "import subprocess\n",
    "from datetime import datetime\n",
    "import numpy as np"
   ]
  },
  {
   "cell_type": "code",
   "execution_count": 2,
   "metadata": {},
   "outputs": [],
   "source": [
    "input = r'C:\\David\\Desarrollos\\02_Procesos\\09_Control_de_Saldos\\02_Python\\01_Input'\n",
    "output = r'C:\\David\\Desarrollos\\02_Procesos\\09_Control_de_Saldos\\02_Python\\02_Output'\n",
    "temp_path = r'C:\\David\\Desarrollos\\02_Procesos\\09_Control_de_Saldos\\02_Python\\07_Temp'"
   ]
  },
  {
   "cell_type": "code",
   "execution_count": 3,
   "metadata": {},
   "outputs": [],
   "source": [
    "archivos_xls = [file.name for file in os.scandir(input) if file.name.endswith('.xls')]\n",
    "#archivos_xlsx = [file.name for file in os.scandir(input) if file.name.endswith('.xlsx')]\n",
    "archivos_pdf = [file.name for file in os.scandir(input) if file.name.endswith('.pdf')]"
   ]
  },
  {
   "cell_type": "code",
   "execution_count": 4,
   "metadata": {},
   "outputs": [],
   "source": [
    "tasa_diaria_usd = ((1 + 0.04) ** (1 / 360)) - 1\n",
    "tasa_diaria_pen = ((1 + 0.0425) ** (1 / 360)) - 1"
   ]
  },
  {
   "cell_type": "code",
   "execution_count": 5,
   "metadata": {},
   "outputs": [],
   "source": [
    "def obtener_numero_paginas_pdf(archivo):\n",
    "    pdf_document = fitz.open(archivo)\n",
    "    return pdf_document.page_count"
   ]
  },
  {
   "cell_type": "code",
   "execution_count": 6,
   "metadata": {},
   "outputs": [],
   "source": [
    "def tratar_df_brutos_de_pdf(max_proc, contable_null, df):\n",
    "    #print(max_proc, contable_null)\n",
    "\n",
    "    if max_proc == 5 and not contable_null:\n",
    "        df_columnas_con_nombres = df[['PROC.', 'SUC-AGE', 'NUM OP', 'HORA', 'ORIGEN', 'TIPO', 'CONTABLE']]\n",
    "        df_columnas_por_ubicacion = df.iloc[:, [1, -2]]\n",
    "        return pd.concat([df_columnas_con_nombres, df_columnas_por_ubicacion], axis = 1)\n",
    "    \n",
    "    if max_proc == 5 and contable_null:\n",
    "        df = df.drop(columns = ['CONTABLE'])\n",
    "        df = df.rename(columns = {df.columns[-1]: 'CONTABLE'})\n",
    "        df_columnas_con_nombres = df[['PROC.', 'SUC-AGE', 'NUM OP', 'HORA', 'ORIGEN', 'TIPO', 'CONTABLE']]\n",
    "        df_columnas_por_ubicacion = df.iloc[:, [1, -2]]\n",
    "        return pd.concat([df_columnas_con_nombres, df_columnas_por_ubicacion], axis = 1)\n",
    "    \n",
    "    if max_proc != 5 and not contable_null:\n",
    "        df['Columna 2'] = df['PROC.'].str[5:]\n",
    "        df['PROC.'] = df['PROC.'].str[:5]\n",
    "        df_columnas_con_nombres = df[['PROC.', 'SUC-AGE', 'NUM OP', 'HORA', 'ORIGEN', 'TIPO', 'CONTABLE', 'Columna 2']]\n",
    "        df_columnas_por_ubicacion = df.iloc[:, [-3]]\n",
    "        return pd.concat([df_columnas_con_nombres, df_columnas_por_ubicacion], axis = 1)\n",
    "    \n",
    "    if max_proc != 5 and contable_null:\n",
    "        #v Inicio de parte no testeada por caso no presentado (se incluye porque el caso en el que max_prox == 5 y contable_null es True sí se ha dado)\n",
    "        df = df.drop(columns = ['CONTABLE'])\n",
    "        df = df.rename(columns = {df.columns[-1]: 'CONTABLE'})     \n",
    "        #^ Fin de parte no testeada por caso no presentado        \n",
    "        df['Columna 2'] = df['PROC.'].str[5:]\n",
    "        df['PROC.'] = df['PROC.'].str[:5]\n",
    "        df_columnas_con_nombres = df[['PROC.', 'SUC-AGE', 'NUM OP', 'HORA', 'ORIGEN', 'TIPO', 'CONTABLE', 'Columna 2']]\n",
    "        df_columnas_por_ubicacion = df.iloc[:, [-3]]\n",
    "        return pd.concat([df_columnas_con_nombres, df_columnas_por_ubicacion], axis = 1)"
   ]
  },
  {
   "cell_type": "code",
   "execution_count": 7,
   "metadata": {},
   "outputs": [],
   "source": [
    "def generar_dataframe_desde_pagina_pdf(archivo, pagina):\n",
    "    if pagina == 1:\n",
    "        df = tabula.read_pdf(archivo, pages=f'{pagina}', stream=True, encoding='ISO-8859-1', area = (350, 0, 842, 595))[0]\n",
    "        max_proc = df['PROC.'].str.len().max()\n",
    "        contable_null = (pd.isna(df['CONTABLE'].unique())[0] == True)\n",
    "        df = tratar_df_brutos_de_pdf(max_proc, contable_null, df)\n",
    "        df = df.rename(columns = {df.columns[-2]: 'DESCRIPCIÓN', df.columns[-1]: 'CARGO_ABONO', 'PROC.': 'FECHA', 'CONTABLE': 'SALDO CONTABLE'})        \n",
    "        return df[['FECHA', 'DESCRIPCIÓN', 'SUC-AGE', 'NUM OP', 'HORA', 'ORIGEN', 'TIPO', 'CARGO_ABONO', 'SALDO CONTABLE']]\n",
    "    \n",
    "    if pagina > 1:\n",
    "        df = tabula.read_pdf(archivo, pages=f'{pagina}', stream=True, encoding='ISO-8859-1', area = (195, 0, 842, 595))[0]\n",
    "        df = df[~(df['PROC.'].isna())] #Lee siempre la primera línea (no encabezados) como nulo\n",
    "        max_proc = df['PROC.'].str.len().max()\n",
    "        contable_null = (pd.isna(df['CONTABLE'].unique())[0] == True)\n",
    "        df = tratar_df_brutos_de_pdf(max_proc, contable_null, df)\n",
    "        df = df.rename(columns = {df.columns[-2]: 'DESCRIPCIÓN', df.columns[-1]: 'CARGO_ABONO', 'PROC.': 'FECHA', 'CONTABLE': 'SALDO CONTABLE'})  \n",
    "        return df[['FECHA', 'DESCRIPCIÓN', 'SUC-AGE', 'NUM OP', 'HORA', 'ORIGEN', 'TIPO', 'CARGO_ABONO', 'SALDO CONTABLE']]"
   ]
  },
  {
   "cell_type": "code",
   "execution_count": 8,
   "metadata": {},
   "outputs": [],
   "source": [
    "def corregir_fecha_pdf(fila, mes):\n",
    "    fecha_operacion = fila['FECHA']\n",
    "    year = str(fila['YEAR'])\n",
    "    return datetime.strptime(fecha_operacion + \"-\" + year, '%d-%m-%Y')"
   ]
  },
  {
   "cell_type": "code",
   "execution_count": 9,
   "metadata": {},
   "outputs": [],
   "source": [
    "def generar_dataframe_desde_pdf(archivo, empresa, moneda, banco):\n",
    "    ruta_archivo = os.path.join(input, archivo)\n",
    "    numero_paginas_pdf = obtener_numero_paginas_pdf(ruta_archivo)\n",
    "    dfs_temp = []\n",
    "    #Es numero_paginas_pdf - 1 porque la última página de los pdf siempre muestra información no relevante\n",
    "    for pagina in range(numero_paginas_pdf - 1):\n",
    "        #Es pagina + 1 porque el pdf empieza desde página 1 y el range empieza desde 0\n",
    "        if pagina == 0:\n",
    "            df_temp_1 = generar_dataframe_desde_pagina_pdf(ruta_archivo, pagina + 1)\n",
    "            dfs_temp.append(df_temp_1)\n",
    "        else:\n",
    "            df_temp_2 = generar_dataframe_desde_pagina_pdf(ruta_archivo, pagina + 1)\n",
    "            dfs_temp.append(df_temp_2)\n",
    "    df = pd.concat(dfs_temp)\n",
    "    #Agrega columna año\n",
    "    df['YEAR'] = archivo[8:12]\n",
    "    mes = str(df[~(df['FECHA'].isna())]['FECHA'].str[3:5].unique()[0])\n",
    "    df['FECHA'] = df.apply(corregir_fecha_pdf, axis = 1, args = [mes,])\n",
    "    #Corrigiendo tipo de dato de columnas float\n",
    "    df['CARGO_ABONO'] = df['CARGO_ABONO'].apply(lambda x: '-0' + str(x)[:-1] if not pd.isna(x) and str(x).endswith('-') else x) #maneja los signos negativos que están al final de la cadena\n",
    "    df['CARGO_ABONO'] = df['CARGO_ABONO'].str.replace(',', '').astype(float)\n",
    "    df['SALDO CONTABLE'] = df['SALDO CONTABLE'].apply(lambda x: float(str(x).replace(',', '')) if not pd.isna(x) else x)\n",
    "\n",
    "    #Desechando columna año auxiliar\n",
    "    df = df.drop(columns = ['YEAR'])\n",
    "    df = df[['FECHA', 'DESCRIPCIÓN', 'CARGO_ABONO', 'SALDO CONTABLE']].rename(columns = {'SALDO CONTABLE': 'SALDO_CONTABLE', 'DESCRIPCIÓN': 'DESCRIPCION'})\n",
    "\n",
    "    #Rellenando fechas que no existen en extractos bancario\n",
    "    min_date = df['FECHA'].dt.date.min()\n",
    "    min_date = pd.Timestamp(year = min_date.year, month = min_date.month, day = 1)\n",
    "    #max_date = df['FECHA'].dt.date.max()\n",
    "    max_date = min_date + pd.offsets.MonthEnd(0)\n",
    "\n",
    "    full_dates = pd.date_range(start = min_date, end = max_date)\n",
    "    df_full_dates = pd.DataFrame(columns = ['FECHA'], data = full_dates)\n",
    "    \n",
    "    df_full_dates = df_full_dates.merge(df, on = 'FECHA', how = 'left')\n",
    "    \n",
    "    #Agregando columnas de banco, moneda y empresa\n",
    "    df['EMPRESA'] = empresa\n",
    "    df['MONEDA'] = moneda\n",
    "    df['BANCO'] = banco\n",
    "    df_full_dates['EMPRESA'] = empresa\n",
    "    df_full_dates['MONEDA'] = moneda\n",
    "    df_full_dates['BANCO'] = banco\n",
    "\n",
    "    df_full_dates = df_full_dates[['FECHA', 'SALDO_CONTABLE', 'EMPRESA', 'MONEDA', 'BANCO']] \n",
    "    \n",
    "    return df, df_full_dates"
   ]
  },
  {
   "cell_type": "code",
   "execution_count": 10,
   "metadata": {},
   "outputs": [],
   "source": [
    "def corregir_xls(archivo):\n",
    "    #Script de Power Shell\n",
    "    powershell_script = f\"\"\"\n",
    "    $OriginalFilePath = \"{input + '\\\\' + archivo}\"\n",
    "    $NewFilePath = \"{temp_path + '\\\\' + archivo + 'x'}\"\n",
    "    $Excel = New-Object -ComObject Excel.Application\n",
    "    $Excel.Visible = $false\n",
    "    $Workbook = $Excel.Workbooks.Open($OriginalFilePath)\n",
    "    $Workbook.SaveAs($NewFilePath, 51)\n",
    "    $Workbook.Close()\n",
    "    $Excel.Quit()\n",
    "    [System.Runtime.Interopservices.Marshal]::ReleaseComObject($Excel) | Out-Null\n",
    "    [System.Runtime.Interopservices.Marshal]::ReleaseComObject($Workbook) | Out-Null\n",
    "    \"\"\"\n",
    "    subprocess.run([\"powershell\", \"-Command\", powershell_script])\n",
    "    return archivo + 'x'"
   ]
  },
  {
   "cell_type": "code",
   "execution_count": 11,
   "metadata": {},
   "outputs": [],
   "source": [
    "def corregir_fecha_xls(fila, mes):\n",
    "\n",
    "    fecha_operacion = fila['FECHA OPER.']\n",
    "    year = str(fila['YEAR'])\n",
    "\n",
    "    if not pd.isna(fecha_operacion):\n",
    "        return datetime.strptime(fecha_operacion[:5] + \"-\" + year, '%d-%m-%Y')\n",
    "    else:\n",
    "        return datetime.strptime('01' + \"-\" + mes + \"-\" + year, '%d-%m-%Y')"
   ]
  },
  {
   "cell_type": "code",
   "execution_count": 12,
   "metadata": {},
   "outputs": [],
   "source": [
    "def generar_dataframe_desde_xls(archivo, empresa, moneda, banco):\n",
    "    \n",
    "    if str(archivo).endswith('.xls'):\n",
    "        nuevo_archivo = corregir_xls(archivo)\n",
    "\n",
    "    #Inicio de lógica para obtener skip_rows_dinámico en funcion de la ubicación de FECHA OPER.\n",
    "    df = pd.read_excel(os.path.join(temp_path, nuevo_archivo))\n",
    "    primera_columna = df.columns[0]\n",
    "    skip_rows_dinamico = int(df[df[primera_columna].fillna('blank').str.contains('FECHA OPER.')].head(1)[primera_columna].index[0]) + 1\n",
    "\n",
    "    df = pd.read_excel(os.path.join(temp_path, nuevo_archivo), skiprows = skip_rows_dinamico)\n",
    "    #Excluir registros no relacionados con transacciones\n",
    "    #df = df[(df['FECHA OPER.'].str.len() == 6) | (df['DESCRIPCIÓN'].str.contains('SALDO ANTERIOR'))]\n",
    "    df = df[(df['FECHA OPER.'].str.len() == 6)] #se retira lo de saldo anterior\n",
    "    #Agrega columna año auxiliar\n",
    "    df['YEAR'] = archivo[8:12]\n",
    "    #Uniformizando fecha de operación. Además, asigna fecha de inicio de mes de dataframe a casos de \"saldo anterior\"\n",
    "    mes = str(df[~(df['FECHA OPER.'].isna())]['FECHA OPER.'].str[3:5].unique()[0])\n",
    "    df['FECHA OPER.'] = df.apply(corregir_fecha_xls, axis = 1, args = [mes,])\n",
    "\n",
    "    #Corrigiendo tipo de dato de columnas float\n",
    "    #El segmento 2.xls es para los casos de BBVA2 en los que las columnas con datos numéricos ya vienen sin el caracter extraño al final de la cadena\n",
    "    if '2.xls' in nuevo_archivo:\n",
    "        df['CARGO/ABONO'] = df['CARGO/ABONO'].astype(float)\n",
    "        df['ITF'] = df['ITF'].astype(float)\n",
    "        df['SALDO CONTABLE'] = df['SALDO CONTABLE'].astype(float)\n",
    "    else:\n",
    "        df['CARGO/ABONO'] = df['CARGO/ABONO'].str[:-1].str.replace(',', '').astype(float)\n",
    "        df['ITF'] = df['ITF'].str[:-1].str.replace(',', '').astype(float)\n",
    "        df['SALDO CONTABLE'] = df['SALDO CONTABLE'].str[:-1].str.replace(',', '').astype(float)\n",
    "\n",
    "    #Desechando columna año auxiliar\n",
    "    df = df.drop(columns = ['YEAR'])\n",
    "    df = df[['FECHA OPER.', 'DESCRIPCIÓN', 'CARGO/ABONO', 'SALDO CONTABLE']].rename(columns = {'DESCRIPCIÓN': 'DESCRIPCION', 'FECHA OPER.': 'FECHA', 'CARGO/ABONO': 'CARGO_ABONO', 'SALDO CONTABLE': 'SALDO_CONTABLE'})\n",
    "\n",
    "    #Rellenando fechas que no existen en extractos bancario\n",
    "    min_date = df['FECHA'].dt.date.min()\n",
    "    min_date = pd.Timestamp(year = min_date.year, month = min_date.month, day = 1)\n",
    "    #max_date = df['FECHA'].dt.date.max()\n",
    "    max_date = min_date + pd.offsets.MonthEnd(0)\n",
    "\n",
    "    full_dates = pd.date_range(start = min_date, end = max_date)\n",
    "    df_full_dates = pd.DataFrame(columns = ['FECHA'], data = full_dates)\n",
    "\n",
    "    df_full_dates = df_full_dates.merge(df, on = 'FECHA', how = 'left')\n",
    "\n",
    "    #Agregando columnas de banco, moneda y empresa\n",
    "    df['EMPRESA'] = empresa\n",
    "    df['MONEDA'] = moneda\n",
    "    df['BANCO'] = banco\n",
    "    df_full_dates['EMPRESA'] = empresa\n",
    "    df_full_dates['MONEDA'] = moneda\n",
    "    df_full_dates['BANCO'] = banco\n",
    "\n",
    "    df_full_dates = df_full_dates[['FECHA', 'SALDO_CONTABLE', 'EMPRESA', 'MONEDA', 'BANCO']] \n",
    "\n",
    "    return df, df_full_dates"
   ]
  },
  {
   "cell_type": "code",
   "execution_count": 13,
   "metadata": {},
   "outputs": [
    {
     "name": "stderr",
     "output_type": "stream",
     "text": [
      "Failed to import jpype dependencies. Fallback to subprocess.\n",
      "No module named 'jpype'\n"
     ]
    }
   ],
   "source": [
    "try:\n",
    "    #Listas para dataframes con data de bancos\n",
    "    df_BCP_BPO_PEN_lista = []\n",
    "    df_BCP_BPO_USD_lista = []\n",
    "    df_BCP_SDP_USD_lista = []\n",
    "    df_BCP_SDP_PEN_lista = []\n",
    "    df_BCP_TRI_PEN_lista = []\n",
    "    df_BCP_TRI_USD_lista = []\n",
    "\n",
    "    #Listas para dataframes con data full calendar\n",
    "    df_BCP_BPO_PEN_full_calendar_lista = []\n",
    "    df_BCP_BPO_USD_full_calendar_lista = []\n",
    "    df_BCP_SDP_USD_full_calendar_lista = []\n",
    "    df_BCP_SDP_PEN_full_calendar_lista = []\n",
    "    df_BCP_TRI_PEN_full_calendar_lista = []\n",
    "    df_BCP_TRI_USD_full_calendar_lista = []\n",
    "\n",
    "    for archivo in archivos_pdf:\n",
    "        empresa_moneda = archivo[-11:-4]\n",
    "\n",
    "        match empresa_moneda:\n",
    "            case 'BPO PEN':\n",
    "                df_data_bancos_temp, df_data_full_calendar_temp = generar_dataframe_desde_pdf(archivo, 'BPO', 'PEN', 'BCP')\n",
    "                df_BCP_BPO_PEN_lista.append(df_data_bancos_temp)\n",
    "                df_BCP_BPO_PEN_full_calendar_lista.append(df_data_full_calendar_temp)\n",
    "            case 'BPO USD':\n",
    "                df_data_bancos_temp, df_data_full_calendar_temp = generar_dataframe_desde_pdf(archivo, 'BPO', 'USD', 'BCP')\n",
    "                df_BCP_BPO_USD_lista.append(df_data_bancos_temp)\n",
    "                df_BCP_BPO_USD_full_calendar_lista.append(df_data_full_calendar_temp)\n",
    "            case 'SDP USD':\n",
    "                df_data_bancos_temp, df_data_full_calendar_temp = generar_dataframe_desde_pdf(archivo, 'SDP', 'USD', 'BCP')\n",
    "                df_BCP_SDP_USD_lista.append(df_data_bancos_temp)\n",
    "                df_BCP_SDP_USD_full_calendar_lista.append(df_data_full_calendar_temp)\n",
    "            case 'SDP PEN':\n",
    "                df_data_bancos_temp, df_data_full_calendar_temp = generar_dataframe_desde_pdf(archivo, 'SDP', 'PEN', 'BCP')\n",
    "                df_BCP_SDP_PEN_lista.append(df_data_bancos_temp)\n",
    "                df_BCP_SDP_PEN_full_calendar_lista.append(df_data_full_calendar_temp)\n",
    "            case 'TRI PEN':\n",
    "                df_data_bancos_temp, df_data_full_calendar_temp = generar_dataframe_desde_pdf(archivo, 'TRI', 'PEN', 'BCP')\n",
    "                df_BCP_TRI_PEN_lista.append(df_data_bancos_temp)\n",
    "                df_BCP_TRI_PEN_full_calendar_lista.append(df_data_full_calendar_temp)\n",
    "            case 'TRI USD':\n",
    "                df_data_bancos_temp, df_data_full_calendar_temp = generar_dataframe_desde_pdf(archivo, 'TRI', 'USD', 'BCP')\n",
    "                df_BCP_TRI_USD_lista.append(df_data_bancos_temp)\n",
    "                df_BCP_TRI_USD_full_calendar_lista.append(df_data_full_calendar_temp)\n",
    "            case _:\n",
    "                print('Se ha detectado un caso desconocido de EMPRESA_MONEDA en los archivos pdf')\n",
    "\n",
    "    df_BCP_BPO_PEN = pd.concat(df_BCP_BPO_PEN_lista)\n",
    "    df_BCP_BPO_USD = pd.concat(df_BCP_BPO_USD_lista)\n",
    "    df_BCP_SDP_USD = pd.concat(df_BCP_SDP_USD_lista)\n",
    "    df_BCP_SDP_PEN = pd.concat(df_BCP_SDP_PEN_lista)\n",
    "    df_BCP_TRI_PEN = pd.concat(df_BCP_TRI_PEN_lista)\n",
    "    df_BCP_TRI_USD = pd.concat(df_BCP_TRI_USD_lista)\n",
    "\n",
    "    df_BCP_BPO_PEN_full_calendar = pd.concat(df_BCP_BPO_PEN_full_calendar_lista)\n",
    "    df_BCP_BPO_USD_full_calendar = pd.concat(df_BCP_BPO_USD_full_calendar_lista)\n",
    "    df_BCP_SDP_USD_full_calendar = pd.concat(df_BCP_SDP_USD_full_calendar_lista)\n",
    "    df_BCP_SDP_PEN_full_calendar = pd.concat(df_BCP_SDP_PEN_full_calendar_lista)\n",
    "    df_BCP_TRI_PEN_full_calendar = pd.concat(df_BCP_TRI_PEN_full_calendar_lista)\n",
    "    df_BCP_TRI_USD_full_calendar = pd.concat(df_BCP_TRI_USD_full_calendar_lista)\n",
    "except Exception as e:\n",
    "    print(e)"
   ]
  },
  {
   "cell_type": "code",
   "execution_count": 14,
   "metadata": {},
   "outputs": [],
   "source": [
    "try:\n",
    "    #Listas para dataframes con data de bancos\n",
    "    df_BBVA_SDP_PEN_lista = []\n",
    "    df_BBVA_SDP_USD_lista = []\n",
    "    df_BBVA_TRI_PEN_lista = []\n",
    "    df_BBVA_TRI_USD_lista = []\n",
    "    df_BBVA2_TRI_USD_lista = []\n",
    "    df_BBVA_BPO_USD_lista = []\n",
    "    df_BBVA_BPO_PEN_lista = []\n",
    "\n",
    "    #Listas para dataframes con data full calendar\n",
    "    df_BBVA_SDP_PEN_full_calendar_lista = []\n",
    "    df_BBVA_SDP_USD_full_calendar_lista = []\n",
    "    df_BBVA_TRI_PEN_full_calendar_lista = []\n",
    "    df_BBVA_TRI_USD_full_calendar_lista = []\n",
    "    df_BBVA2_TRI_USD_full_calendar_lista = []\n",
    "    df_BBVA_BPO_USD_full_calendar_lista = []\n",
    "    df_BBVA_BPO_PEN_full_calendar_lista = []\n",
    "\n",
    "    for archivo in archivos_xls:\n",
    "        empresa_moneda = archivo[-11:-4]\n",
    "        match empresa_moneda:\n",
    "            case 'SDP PEN':\n",
    "                df_data_bancos_temp, df_data_full_calendar_temp = generar_dataframe_desde_xls(archivo, 'SDP', 'PEN', 'BBVA')\n",
    "                df_BBVA_SDP_PEN_lista.append(df_data_bancos_temp)\n",
    "                df_BBVA_SDP_PEN_full_calendar_lista.append(df_data_full_calendar_temp)\n",
    "            case 'SDP USD':\n",
    "                df_data_bancos_temp, df_data_full_calendar_temp = generar_dataframe_desde_xls(archivo, 'SDP', 'USD', 'BBVA')\n",
    "                df_BBVA_SDP_USD_lista.append(df_data_bancos_temp)\n",
    "                df_BBVA_SDP_USD_full_calendar_lista.append(df_data_full_calendar_temp)\n",
    "            case 'TRI PEN':\n",
    "                df_data_bancos_temp, df_data_full_calendar_temp = generar_dataframe_desde_xls(archivo, 'TRI', 'PEN', 'BBVA')\n",
    "                df_BBVA_TRI_PEN_lista.append(df_data_bancos_temp)\n",
    "                df_BBVA_TRI_PEN_full_calendar_lista.append(df_data_full_calendar_temp)\n",
    "            case 'TRI USD':\n",
    "                df_data_bancos_temp, df_data_full_calendar_temp = generar_dataframe_desde_xls(archivo, 'TRI', 'USD', 'BBVA')\n",
    "                df_BBVA_TRI_USD_lista.append(df_data_bancos_temp)\n",
    "                df_BBVA_TRI_USD_full_calendar_lista.append(df_data_full_calendar_temp)\n",
    "            case 'I USD 2':\n",
    "                df_data_bancos_temp, df_data_full_calendar_temp = generar_dataframe_desde_xls(archivo, 'TRI', 'USD', 'BBVA2')\n",
    "                df_BBVA2_TRI_USD_lista.append(df_data_bancos_temp)\n",
    "                df_BBVA2_TRI_USD_full_calendar_lista.append(df_data_full_calendar_temp)\n",
    "            case 'BPO USD':\n",
    "                df_data_bancos_temp, df_data_full_calendar_temp = generar_dataframe_desde_xls(archivo, 'BPO', 'USD', 'BBVA')\n",
    "                df_BBVA_BPO_USD_lista.append(df_data_bancos_temp)\n",
    "                df_BBVA_BPO_USD_full_calendar_lista.append(df_data_full_calendar_temp)\n",
    "            case 'BPO PEN':\n",
    "                df_data_bancos_temp, df_data_full_calendar_temp = generar_dataframe_desde_xls(archivo, 'BPO', 'PEN', 'BBVA')\n",
    "                df_BBVA_BPO_PEN_lista.append(df_data_bancos_temp)\n",
    "                df_BBVA_BPO_PEN_full_calendar_lista.append(df_data_full_calendar_temp)\n",
    "            case _:\n",
    "                print('Se ha detectado un caso desconocido de EMPRESA_MONEDA en los archivos xls')\n",
    "\n",
    "    try:\n",
    "        df_BBVA_SDP_PEN = pd.concat(df_BBVA_SDP_PEN_lista)\n",
    "    except Exception as e:\n",
    "        print(e)\n",
    "    \n",
    "    try:\n",
    "        df_BBVA_SDP_USD = pd.concat(df_BBVA_SDP_USD_lista)\n",
    "    except Exception as e:\n",
    "        print(e)\n",
    "\n",
    "    try:\n",
    "        df_BBVA_SDP_PEN_full_calendar = pd.concat(df_BBVA_SDP_PEN_full_calendar_lista)\n",
    "    except Exception as e:\n",
    "        print(e)\n",
    "\n",
    "    try:\n",
    "        df_BBVA_SDP_USD_full_calendar = pd.concat(df_BBVA_SDP_USD_full_calendar_lista)\n",
    "    except Exception as e:\n",
    "        print(e)\n",
    "\n",
    "######################################################################################################################################################\n",
    "######################################################################################################################################################\n",
    "######################################################################################################################################################\n",
    "\n",
    "    try:\n",
    "        df_BBVA_TRI_PEN = pd.concat(df_BBVA_TRI_PEN_lista)\n",
    "    except Exception as e:\n",
    "        print(e)\n",
    "    \n",
    "    try:\n",
    "        df_BBVA_TRI_USD = pd.concat(df_BBVA_TRI_USD_lista)\n",
    "    except Exception as e:\n",
    "        print(e)    \n",
    "\n",
    "    try:\n",
    "        df_BBVA_TRI_PEN_full_calendar = pd.concat(df_BBVA_TRI_PEN_full_calendar_lista)\n",
    "    except Exception as e:\n",
    "        print(e)\n",
    "\n",
    "    try:\n",
    "        df_BBVA_TRI_USD_full_calendar = pd.concat(df_BBVA_TRI_USD_full_calendar_lista)\n",
    "    except Exception as e:\n",
    "        print(e)\n",
    "\n",
    "######################################################################################################################################################\n",
    "######################################################################################################################################################\n",
    "######################################################################################################################################################\n",
    "\n",
    "    try:\n",
    "        df_BBVA2_TRI_USD = pd.concat(df_BBVA2_TRI_USD_lista)\n",
    "    except Exception as e:\n",
    "        print(e)    \n",
    "\n",
    "    try:\n",
    "        df_BBVA2_TRI_USD_full_calendar = pd.concat(df_BBVA2_TRI_USD_full_calendar_lista)\n",
    "    except Exception as e:\n",
    "        print(e)\n",
    "\n",
    "######################################################################################################################################################\n",
    "######################################################################################################################################################\n",
    "######################################################################################################################################################\n",
    "\n",
    "    try:\n",
    "        df_BBVA_BPO_USD = pd.concat(df_BBVA_BPO_USD_lista)\n",
    "    except Exception as e:\n",
    "        print(e)    \n",
    "\n",
    "    try:\n",
    "        df_BBVA_BPO_USD_full_calendar = pd.concat(df_BBVA_BPO_USD_full_calendar_lista)\n",
    "    except Exception as e:\n",
    "        print(e)\n",
    "\n",
    "    try:\n",
    "        df_BBVA_BPO_PEN = pd.concat(df_BBVA_BPO_PEN_lista)\n",
    "    except Exception as e:\n",
    "        print(e)    \n",
    "\n",
    "    try:\n",
    "        df_BBVA_BPO_PEN_full_calendar = pd.concat(df_BBVA_BPO_PEN_full_calendar_lista)\n",
    "    except Exception as e:\n",
    "        print(e)\n",
    "\n",
    "except Exception as e:\n",
    "    print(e)"
   ]
  },
  {
   "cell_type": "code",
   "execution_count": 15,
   "metadata": {},
   "outputs": [],
   "source": [
    "try:\n",
    "    df_BCP_BPO_PEN.to_excel(os.path.join(output, 'BCP_BPO_PEN.xlsx'), index = False)\n",
    "except Exception as e:\n",
    "    print(e)\n",
    "\n",
    "try:\n",
    "    df_BCP_BPO_USD.to_excel(os.path.join(output, 'BCP_BPO_USD.xlsx'), index = False)\n",
    "except Exception as e:\n",
    "    print(e)\n",
    "\n",
    "try:\n",
    "    df_BCP_SDP_USD.to_excel(os.path.join(output, 'BCP_SDP_USD.xlsx'), index = False)\n",
    "except Exception as e:\n",
    "    print(e)\n",
    "\n",
    "try:\n",
    "    df_BCP_SDP_PEN.to_excel(os.path.join(output, 'BCP_SDP_PEN.xlsx'), index = False)\n",
    "except Exception as e:\n",
    "    print(e)\n",
    "\n",
    "try:\n",
    "    df_BBVA_SDP_PEN.to_excel(os.path.join(output, 'BBVA_SDP_PEN.xlsx'), index = False)\n",
    "except Exception as e:\n",
    "    print(e)\n",
    "\n",
    "try:\n",
    "    df_BBVA_SDP_USD.to_excel(os.path.join(output, 'BBVA_SDP_USD.xlsx'), index = False)\n",
    "except Exception as e:\n",
    "    print(e)\n",
    "\n",
    "########################################################################################################################################################\n",
    "########################################################################################################################################################\n",
    "\n",
    "try:\n",
    "    df_BBVA_TRI_PEN.to_excel(os.path.join(output, 'BBVA_TRI_PEN.xlsx'), index = False)\n",
    "except Exception as e:\n",
    "    print(e)\n",
    "\n",
    "try:\n",
    "    df_BBVA_TRI_USD.to_excel(os.path.join(output, 'BBVA_TRI_USD.xlsx'), index = False)\n",
    "except Exception as e:\n",
    "    print(e)\n",
    "\n",
    "try:\n",
    "    df_BCP_TRI_PEN.to_excel(os.path.join(output, 'BCP_TRI_PEN.xlsx'), index = False)\n",
    "except Exception as e:\n",
    "    print(e)\n",
    "\n",
    "try:\n",
    "    df_BCP_TRI_USD.to_excel(os.path.join(output, 'BCP_TRI_USD.xlsx'), index = False)\n",
    "except Exception as e:\n",
    "    print(e)\n",
    "\n",
    "########################################################################################################################################################\n",
    "########################################################################################################################################################\n",
    "\n",
    "try:\n",
    "    df_BBVA2_TRI_USD.to_excel(os.path.join(output, 'BBVA2_TRI_USD.xlsx'), index = False)\n",
    "except Exception as e:\n",
    "    print(e)\n",
    "\n",
    "########################################################################################################################################################\n",
    "########################################################################################################################################################\n",
    "\n",
    "try:\n",
    "    df_BBVA_BPO_USD.to_excel(os.path.join(output, 'BBVA_BPO_USD.xlsx'), index = False)\n",
    "except Exception as e:\n",
    "    print(e)\n",
    "\n",
    "try:\n",
    "    df_BBVA_BPO_PEN.to_excel(os.path.join(output, 'BBVA_BPO_PEN.xlsx'), index = False)\n",
    "except Exception as e:\n",
    "    print(e)\n"
   ]
  },
  {
   "cell_type": "code",
   "execution_count": 16,
   "metadata": {},
   "outputs": [
    {
     "data": {
      "text/plain": [
       "\"#Estable sin TRI\\ndf_Base_Saldo_Contable = pd.concat([df_BCP_BPO_PEN_full_calendar, df_BCP_BPO_USD_full_calendar, df_BCP_SDP_USD_full_calendar, df_BCP_SDP_PEN_full_calendar, df_BBVA_SDP_PEN_full_calendar, df_BBVA_SDP_USD_full_calendar])\\ndf_Base_Saldo_Contable = df_Base_Saldo_Contable.drop_duplicates(subset = ['FECHA', 'EMPRESA', 'MONEDA', 'BANCO'], keep = 'last')\\ndf_Base_Saldo_Contable[['SALDO_CONTABLE', 'EMPRESA', 'MONEDA', 'BANCO']] = df_Base_Saldo_Contable[['SALDO_CONTABLE', 'EMPRESA', 'MONEDA', 'BANCO']].ffill()\\n\""
      ]
     },
     "execution_count": 16,
     "metadata": {},
     "output_type": "execute_result"
    }
   ],
   "source": [
    "\"\"\"#Estable sin TRI\n",
    "df_Base_Saldo_Contable = pd.concat([df_BCP_BPO_PEN_full_calendar, df_BCP_BPO_USD_full_calendar, df_BCP_SDP_USD_full_calendar, df_BCP_SDP_PEN_full_calendar, df_BBVA_SDP_PEN_full_calendar, df_BBVA_SDP_USD_full_calendar])\n",
    "df_Base_Saldo_Contable = df_Base_Saldo_Contable.drop_duplicates(subset = ['FECHA', 'EMPRESA', 'MONEDA', 'BANCO'], keep = 'last')\n",
    "df_Base_Saldo_Contable[['SALDO_CONTABLE', 'EMPRESA', 'MONEDA', 'BANCO']] = df_Base_Saldo_Contable[['SALDO_CONTABLE', 'EMPRESA', 'MONEDA', 'BANCO']].ffill()\n",
    "\"\"\""
   ]
  },
  {
   "cell_type": "code",
   "execution_count": 17,
   "metadata": {},
   "outputs": [],
   "source": [
    "df_Base_Saldo_Contable = pd.concat([df_BCP_BPO_PEN_full_calendar, df_BCP_BPO_USD_full_calendar, df_BCP_SDP_USD_full_calendar, df_BCP_SDP_PEN_full_calendar, df_BBVA_SDP_PEN_full_calendar, df_BBVA_SDP_USD_full_calendar, \\\n",
    "                                    df_BBVA_TRI_PEN_full_calendar, df_BBVA_TRI_USD_full_calendar, df_BCP_TRI_PEN_full_calendar, df_BCP_TRI_USD_full_calendar, df_BBVA2_TRI_USD_full_calendar, \\\n",
    "                                    df_BBVA_BPO_PEN_full_calendar, df_BBVA_BPO_USD_full_calendar])\n"
   ]
  },
  {
   "cell_type": "code",
   "execution_count": 18,
   "metadata": {},
   "outputs": [],
   "source": [
    "#temporal\n",
    "df_Base_Saldo_Contable_backup = df_Base_Saldo_Contable.copy()"
   ]
  },
  {
   "cell_type": "code",
   "execution_count": 19,
   "metadata": {},
   "outputs": [],
   "source": [
    "df_Base_Saldo_Contable = df_Base_Saldo_Contable.drop_duplicates(subset = ['FECHA', 'EMPRESA', 'MONEDA', 'BANCO'], keep = 'last')\n",
    "df_Base_Saldo_Contable.sort_values(by = ['EMPRESA', 'MONEDA', 'BANCO', 'FECHA'], inplace = True)\n"
   ]
  },
  {
   "cell_type": "markdown",
   "metadata": {},
   "source": [
    "# Data Adicional de Diego"
   ]
  },
  {
   "cell_type": "code",
   "execution_count": 20,
   "metadata": {},
   "outputs": [],
   "source": [
    "df_adicional_saldos_bpo = pd.read_excel(os.path.join(input, 'Saldos diarios BPO-SDP 2024.xlsx'), sheet_name = 'BPO')\n",
    "df_adicional_saldos_sdp = pd.read_excel(os.path.join(input, 'Saldos diarios BPO-SDP 2024.xlsx'), sheet_name = 'SDP')\n",
    "df_adicional_saldos = pd.concat([df_adicional_saldos_bpo, df_adicional_saldos_sdp])"
   ]
  },
  {
   "cell_type": "code",
   "execution_count": 21,
   "metadata": {},
   "outputs": [],
   "source": [
    "#Eliminando columna Mes\n",
    "df_adicional_saldos.drop(columns = ['Mes'], inplace = True)"
   ]
  },
  {
   "cell_type": "code",
   "execution_count": 22,
   "metadata": {},
   "outputs": [],
   "source": [
    "#Unpivoting moneda USD y PEN\n",
    "df_adicional_saldos_me = df_adicional_saldos[['Fecha', 'EMPRESA', 'BBVA ME', 'BCP ME']].copy()\n",
    "df_adicional_saldos_mn = df_adicional_saldos[['Fecha', 'EMPRESA', 'BBVA MN', 'BCP MN']].copy()\n",
    "\n",
    "df_adicional_saldos_me['MONEDA'] = 'USD'\n",
    "df_adicional_saldos_me.rename(columns = {'Fecha': 'FECHA', 'BBVA ME': 'BBVA', 'BCP ME': 'BCP'}, inplace = True)\n",
    "\n",
    "df_adicional_saldos_mn['MONEDA'] = 'PEN'\n",
    "df_adicional_saldos_mn.rename(columns = {'Fecha': 'FECHA', 'BBVA MN': 'BBVA', 'BCP MN': 'BCP'}, inplace = True)"
   ]
  },
  {
   "cell_type": "code",
   "execution_count": 23,
   "metadata": {},
   "outputs": [],
   "source": [
    "df_adicional_saldos = pd.concat([df_adicional_saldos_me, df_adicional_saldos_mn])"
   ]
  },
  {
   "cell_type": "code",
   "execution_count": 24,
   "metadata": {},
   "outputs": [],
   "source": [
    "#Unoivoting banco BBVA y BCP\n",
    "df_adicional_saldos_bbva = df_adicional_saldos[['FECHA', 'MONEDA', 'EMPRESA', 'BBVA']].copy()\n",
    "df_adicional_saldos_bcp = df_adicional_saldos[['FECHA', 'MONEDA', 'EMPRESA', 'BCP']].copy()\n",
    "\n",
    "df_adicional_saldos_bbva['BANCO'] = 'BBVA'\n",
    "df_adicional_saldos_bbva.rename(columns = {'BBVA': 'SALDO_CONTABLE'}, inplace = True)\n",
    "\n",
    "df_adicional_saldos_bcp['BANCO'] = 'BCP'\n",
    "df_adicional_saldos_bcp.rename(columns = {'BCP': 'SALDO_CONTABLE'}, inplace = True)"
   ]
  },
  {
   "cell_type": "code",
   "execution_count": 25,
   "metadata": {},
   "outputs": [],
   "source": [
    "df_adicional_saldos = pd.concat([df_adicional_saldos_bbva, df_adicional_saldos_bcp])"
   ]
  },
  {
   "cell_type": "code",
   "execution_count": 26,
   "metadata": {},
   "outputs": [],
   "source": [
    "#Excluyendo todo pasado julio-2024 (regla de Diego)\n",
    "df_adicional_saldos = df_adicional_saldos[df_adicional_saldos['FECHA'] < datetime(2024, 8, 1)]"
   ]
  },
  {
   "cell_type": "markdown",
   "metadata": {},
   "source": [
    "# Tratamiento previo a relleno"
   ]
  },
  {
   "cell_type": "code",
   "execution_count": 27,
   "metadata": {},
   "outputs": [],
   "source": [
    "\"\"\"\n",
    "Tenemos df_Base_Saldo_Contable que es la base armada con los archivos de saldos.\n",
    "Tenemos df_adicional_saldos que es la base armada a partir de la data adicional de Diego.\n",
    "\n",
    "El objetivo es que df_adicional_saldos cubra del 01/01/2024 al 31/07/2024 para los casos de BPO y SDP de BCP y BBVA.\n",
    "El resto se debe manejar de acuerdo a la data incluida en df_Base_Saldo_Contable\n",
    "\"\"\"\n",
    "\n",
    "mask_sdp_a_excluir_de_base_saldo_contable = ((df_Base_Saldo_Contable['EMPRESA'] == 'SDP') & (df_Base_Saldo_Contable['BANCO'].isin(['BCP', 'BBVA'])) \\\n",
    "                                            & ((df_Base_Saldo_Contable['FECHA'] >= datetime(2024, 1, 1)) & (df_Base_Saldo_Contable['FECHA'] < datetime(2024, 8, 1))))\n",
    "\n",
    "mask_bpo_a_excluir_de_base_saldo_contable = (df_Base_Saldo_Contable['EMPRESA'] == 'BPO') & (df_Base_Saldo_Contable['BANCO'].isin(['BCP', 'BBVA'])) \\\n",
    "                                            & ((df_Base_Saldo_Contable['FECHA'] >= datetime(2024, 1, 1)) & (df_Base_Saldo_Contable['FECHA'] < datetime(2024, 8, 1)))\n",
    "\n",
    "df_Base_Saldo_Contable = df_Base_Saldo_Contable[~((mask_bpo_a_excluir_de_base_saldo_contable) | (mask_sdp_a_excluir_de_base_saldo_contable))]"
   ]
  },
  {
   "cell_type": "code",
   "execution_count": 28,
   "metadata": {},
   "outputs": [],
   "source": [
    "#Se unen las dos bases y se continúa el flujo previamente construido\n",
    "df_Base_Saldo_Contable = pd.concat([df_Base_Saldo_Contable, df_adicional_saldos])"
   ]
  },
  {
   "cell_type": "code",
   "execution_count": 29,
   "metadata": {},
   "outputs": [],
   "source": [
    "df_Base_Saldo_Contable[['SALDO_CONTABLE', 'EMPRESA', 'MONEDA', 'BANCO']] = df_Base_Saldo_Contable[['SALDO_CONTABLE', 'EMPRESA', 'MONEDA', 'BANCO']].ffill()"
   ]
  },
  {
   "cell_type": "code",
   "execution_count": 30,
   "metadata": {},
   "outputs": [],
   "source": [
    "#Agregando columna RNG\n",
    "condiciones = [(df_Base_Saldo_Contable['SALDO_CONTABLE'] > 50000) & (df_Base_Saldo_Contable['MONEDA'] == 'USD'),\n",
    "               (df_Base_Saldo_Contable['SALDO_CONTABLE'] > 50000) & (df_Base_Saldo_Contable['MONEDA'] == 'PEN')]\n",
    "valores = [(df_Base_Saldo_Contable['SALDO_CONTABLE'] - 50000) * tasa_diaria_usd,\n",
    "           (df_Base_Saldo_Contable['SALDO_CONTABLE'] - 50000) * tasa_diaria_pen]\n",
    "df_Base_Saldo_Contable['RNG'] = np.select(condiciones, valores, default = 0)"
   ]
  },
  {
   "cell_type": "code",
   "execution_count": 31,
   "metadata": {},
   "outputs": [],
   "source": [
    "pivot_table_df = df_Base_Saldo_Contable.pivot_table(\n",
    "    index=['FECHA', 'EMPRESA', 'MONEDA'],  # Índices\n",
    "    columns='BANCO',            # Columnas\n",
    "    values='SALDO_CONTABLE',    # Valores\n",
    "    aggfunc='sum',              # Función de agregación\n",
    "    fill_value=0                # Opcional: Rellenar NaN con 0\n",
    ")\n",
    "pivot_table_df = pivot_table_df.reset_index()"
   ]
  },
  {
   "cell_type": "code",
   "execution_count": 32,
   "metadata": {},
   "outputs": [
    {
     "data": {
      "text/plain": [
       "\"#Lógica antigua\\n#Agregando columna RNG\\ncondiciones = [((pivot_table_df['BBVA'] > 50000) & (pivot_table_df['BCP'] > 50000)) & (pivot_table_df['MONEDA'] == 'USD'),\\n                (pivot_table_df['BBVA'] > 50000) & (pivot_table_df['MONEDA'] == 'USD'),\\n                (pivot_table_df['BCP'] > 50000) & (pivot_table_df['MONEDA'] == 'USD'),\\n                ((pivot_table_df['BBVA'] > 50000) & (pivot_table_df['BCP'] > 50000)) & (pivot_table_df['MONEDA'] == 'PEN'),\\n                (pivot_table_df['BBVA'] > 50000) & (pivot_table_df['MONEDA'] == 'PEN'),\\n                (pivot_table_df['BCP'] > 50000) & (pivot_table_df['MONEDA'] == 'PEN')]\\n\\nvalores = [((pivot_table_df['BBVA'] - 50000) + (pivot_table_df['BCP'] - 50000)) * tasa_diaria_usd,\\n           ((pivot_table_df['BBVA'] - 50000)) * tasa_diaria_usd,\\n           ((pivot_table_df['BCP'] - 50000)) * tasa_diaria_usd,\\n           ((pivot_table_df['BBVA'] - 50000) + (pivot_table_df['BCP'] - 50000)) * tasa_diaria_pen,\\n           ((pivot_table_df['BBVA'] - 50000)) * tasa_diaria_pen,\\n           ((pivot_table_df['BCP'] - 50000)) * tasa_diaria_pen]\\n\\npivot_table_df['RNG'] = np.select(condiciones, valores, default = 0)\\n\""
      ]
     },
     "execution_count": 32,
     "metadata": {},
     "output_type": "execute_result"
    }
   ],
   "source": [
    "\"\"\"#Lógica antigua\n",
    "#Agregando columna RNG\n",
    "condiciones = [((pivot_table_df['BBVA'] > 50000) & (pivot_table_df['BCP'] > 50000)) & (pivot_table_df['MONEDA'] == 'USD'),\n",
    "                (pivot_table_df['BBVA'] > 50000) & (pivot_table_df['MONEDA'] == 'USD'),\n",
    "                (pivot_table_df['BCP'] > 50000) & (pivot_table_df['MONEDA'] == 'USD'),\n",
    "                ((pivot_table_df['BBVA'] > 50000) & (pivot_table_df['BCP'] > 50000)) & (pivot_table_df['MONEDA'] == 'PEN'),\n",
    "                (pivot_table_df['BBVA'] > 50000) & (pivot_table_df['MONEDA'] == 'PEN'),\n",
    "                (pivot_table_df['BCP'] > 50000) & (pivot_table_df['MONEDA'] == 'PEN')]\n",
    "\n",
    "valores = [((pivot_table_df['BBVA'] - 50000) + (pivot_table_df['BCP'] - 50000)) * tasa_diaria_usd,\n",
    "           ((pivot_table_df['BBVA'] - 50000)) * tasa_diaria_usd,\n",
    "           ((pivot_table_df['BCP'] - 50000)) * tasa_diaria_usd,\n",
    "           ((pivot_table_df['BBVA'] - 50000) + (pivot_table_df['BCP'] - 50000)) * tasa_diaria_pen,\n",
    "           ((pivot_table_df['BBVA'] - 50000)) * tasa_diaria_pen,\n",
    "           ((pivot_table_df['BCP'] - 50000)) * tasa_diaria_pen]\n",
    "\n",
    "pivot_table_df['RNG'] = np.select(condiciones, valores, default = 0)\n",
    "\"\"\""
   ]
  },
  {
   "cell_type": "markdown",
   "metadata": {},
   "source": [
    "# Insertando valores de base adicional para gaps"
   ]
  },
  {
   "cell_type": "code",
   "execution_count": null,
   "metadata": {},
   "outputs": [],
   "source": []
  },
  {
   "cell_type": "code",
   "execution_count": null,
   "metadata": {},
   "outputs": [],
   "source": []
  },
  {
   "cell_type": "code",
   "execution_count": null,
   "metadata": {},
   "outputs": [],
   "source": []
  },
  {
   "cell_type": "code",
   "execution_count": null,
   "metadata": {},
   "outputs": [],
   "source": []
  },
  {
   "cell_type": "code",
   "execution_count": null,
   "metadata": {},
   "outputs": [],
   "source": []
  },
  {
   "cell_type": "code",
   "execution_count": null,
   "metadata": {},
   "outputs": [],
   "source": []
  },
  {
   "cell_type": "code",
   "execution_count": null,
   "metadata": {},
   "outputs": [],
   "source": []
  },
  {
   "cell_type": "code",
   "execution_count": null,
   "metadata": {},
   "outputs": [],
   "source": []
  },
  {
   "cell_type": "markdown",
   "metadata": {},
   "source": [
    "# Cálculos y procesos finales"
   ]
  },
  {
   "cell_type": "code",
   "execution_count": 33,
   "metadata": {},
   "outputs": [],
   "source": [
    "#Lógica nueva para cálculo de RNG\n",
    "pivot_table_df['RNG'] = np.where(pivot_table_df['MONEDA'] == 'USD',\n",
    "         ((pivot_table_df['BBVA'] > 50000) * (pivot_table_df['BBVA'] - 50000) + (pivot_table_df['BBVA2'] > 50000) * (pivot_table_df['BBVA2'] - 50000) + (pivot_table_df['BCP'] > 50000) * (pivot_table_df['BCP'] - 50000)) * tasa_diaria_usd, \n",
    "         ((pivot_table_df['BBVA'] > 50000) * (pivot_table_df['BBVA'] - 50000) + (pivot_table_df['BBVA2'] > 50000) * (pivot_table_df['BBVA2'] - 50000) + (pivot_table_df['BCP'] > 50000) * (pivot_table_df['BCP'] - 50000)) * tasa_diaria_pen)"
   ]
  },
  {
   "cell_type": "code",
   "execution_count": 34,
   "metadata": {},
   "outputs": [],
   "source": [
    "pivot_table_df.to_excel(os.path.join(output, 'BASE_Saldo_Contable_pivot.xlsx'), index = False)"
   ]
  },
  {
   "cell_type": "code",
   "execution_count": null,
   "metadata": {},
   "outputs": [
    {
     "ename": "",
     "evalue": "",
     "output_type": "error",
     "traceback": [
      "\u001b[1;31mThe Kernel crashed while executing code in the current cell or a previous cell. \n",
      "\u001b[1;31mPlease review the code in the cell(s) to identify a possible cause of the failure. \n",
      "\u001b[1;31mClick <a href='https://aka.ms/vscodeJupyterKernelCrash'>here</a> for more info. \n",
      "\u001b[1;31mView Jupyter <a href='command:jupyter.viewOutput'>log</a> for further details."
     ]
    }
   ],
   "source": [
    "df_Base_Saldo_Contable.to_excel(os.path.join(output, 'BASE_Saldo_Contable.xlsx'), index = False)"
   ]
  },
  {
   "cell_type": "code",
   "execution_count": null,
   "metadata": {},
   "outputs": [],
   "source": []
  }
 ],
 "metadata": {
  "kernelspec": {
   "display_name": "Python 3",
   "language": "python",
   "name": "python3"
  },
  "language_info": {
   "codemirror_mode": {
    "name": "ipython",
    "version": 3
   },
   "file_extension": ".py",
   "mimetype": "text/x-python",
   "name": "python",
   "nbconvert_exporter": "python",
   "pygments_lexer": "ipython3",
   "version": "3.12.4"
  }
 },
 "nbformat": 4,
 "nbformat_minor": 2
}

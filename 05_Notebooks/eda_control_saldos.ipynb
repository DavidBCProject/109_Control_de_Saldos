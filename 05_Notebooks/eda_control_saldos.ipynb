{
 "cells": [
  {
   "cell_type": "code",
   "execution_count": 190,
   "metadata": {},
   "outputs": [],
   "source": [
    "import pandas as pd\n",
    "import os\n",
    "import fitz\n",
    "import tabula"
   ]
  },
  {
   "cell_type": "code",
   "execution_count": 191,
   "metadata": {},
   "outputs": [],
   "source": [
    "input = r'C:\\David\\Desarrollos\\02_Procesos\\09_Control_de_Saldos\\02_Python\\01_Input'\n",
    "output = r'C:\\David\\Desarrollos\\02_Procesos\\09_Control_de_Saldos\\02_Python\\02_Output'"
   ]
  },
  {
   "cell_type": "code",
   "execution_count": 192,
   "metadata": {},
   "outputs": [],
   "source": [
    "def obtener_numero_paginas_pdf(archivo):\n",
    "    pdf_document = fitz.open(archivo)\n",
    "    return pdf_document.page_count"
   ]
  },
  {
   "cell_type": "code",
   "execution_count": 200,
   "metadata": {},
   "outputs": [],
   "source": [
    "def tratar_df_brutos_de_pdf(max_proc, contable_null, df):\n",
    "    print(max_proc, contable_null)\n",
    "\n",
    "    if max_proc == 5 and not contable_null:\n",
    "        df_columnas_con_nombres = df[['PROC.', 'SUC-AGE', 'NUM OP', 'HORA', 'ORIGEN', 'TIPO', 'CONTABLE']]\n",
    "        df_columnas_por_ubicacion = df.iloc[:, [1, -2]]\n",
    "        return pd.concat([df_columnas_con_nombres, df_columnas_por_ubicacion], axis = 1)\n",
    "    \n",
    "    if max_proc == 5 and contable_null:\n",
    "        df = df.drop(columns = ['CONTABLE'])\n",
    "        df = df.rename(columns = {df.columns[-1]: 'CONTABLE'})\n",
    "        df_columnas_con_nombres = df[['PROC.', 'SUC-AGE', 'NUM OP', 'HORA', 'ORIGEN', 'TIPO', 'CONTABLE']]\n",
    "        df_columnas_por_ubicacion = df.iloc[:, [1, -2]]\n",
    "        return pd.concat([df_columnas_con_nombres, df_columnas_por_ubicacion], axis = 1)\n",
    "    \n",
    "    if max_proc != 5 and not contable_null:\n",
    "        df['Columna 2'] = df['PROC.'].str[5:]\n",
    "        df['PROC.'] = df['PROC.'].str[:5]\n",
    "        df_columnas_con_nombres = df[['PROC.', 'SUC-AGE', 'NUM OP', 'HORA', 'ORIGEN', 'TIPO', 'CONTABLE', 'Columna 2']]\n",
    "        df_columnas_por_ubicacion = df.iloc[:, [-3]]\n",
    "        return pd.concat([df_columnas_con_nombres, df_columnas_por_ubicacion], axis = 1)\n",
    "    \n",
    "    if max_proc != 5 and contable_null:\n",
    "        #v Inicio de parte no testeada por caso no presentado (se incluye porque el caso en el que max_prox == 5 y contable_null es True sí se ha dado)\n",
    "        df = df.drop(columns = ['CONTABLE'])\n",
    "        df = df.rename(columns = {df.columns[-1]: 'CONTABLE'})     \n",
    "        #^ Fin de parte no testeada por caso no presentado        \n",
    "        df['Columna 2'] = df['PROC.'].str[5:]\n",
    "        df['PROC.'] = df['PROC.'].str[:5]\n",
    "        df_columnas_con_nombres = df[['PROC.', 'SUC-AGE', 'NUM OP', 'HORA', 'ORIGEN', 'TIPO', 'CONTABLE', 'Columna 2']]\n",
    "        df_columnas_por_ubicacion = df.iloc[:, [-3]]\n",
    "        return pd.concat([df_columnas_con_nombres, df_columnas_por_ubicacion], axis = 1)"
   ]
  },
  {
   "cell_type": "code",
   "execution_count": 204,
   "metadata": {},
   "outputs": [],
   "source": [
    "def generar_dataframe_desde_pagina_pdf(archivo, pagina):\n",
    "    if pagina == 1:\n",
    "        df = tabula.read_pdf(archivo, pages=f'{pagina}', stream=True, encoding='ISO-8859-1', area = (350, 0, 842, 595))[0]\n",
    "        max_proc = df['PROC.'].str.len().max()\n",
    "        contable_null = (pd.isna(df['CONTABLE'].unique())[0] == True)\n",
    "        df = tratar_df_brutos_de_pdf(max_proc, contable_null, df)\n",
    "        df = df.rename(columns = {df.columns[-2]: 'DESCRIPCIÓN', df.columns[-1]: 'CARGO_ABONO', 'PROC.': 'FECHA', 'CONTABLE': 'SALDO CONTABLE'})        \n",
    "        return df[['FECHA', 'DESCRIPCIÓN', 'SUC-AGE', 'NUM OP', 'HORA', 'ORIGEN', 'TIPO', 'CARGO_ABONO', 'SALDO CONTABLE']]\n",
    "    \n",
    "    if pagina > 1:\n",
    "        \"\"\"\n",
    "        df = tabula.read_pdf(archivo, pages=f'{pagina}', stream=True, encoding='ISO-8859-1', area = (195, 0, 842, 595))[0]\n",
    "        df.columns = ['FECHA', 'DESCRIPCIÓN', 'LUGAR', 'SUC-AGE', 'NUM OP', 'HORA', 'ORIGEN', 'TIPO', 'CARGO_ABONO', 'SALDO CONTABLE']\n",
    "        df = df[~(df['FECHA'].isna())].drop(columns = ['LUGAR'])\n",
    "\n",
    "        return df\n",
    "        \"\"\"\n",
    "        df = tabula.read_pdf(archivo, pages=f'{pagina}', stream=True, encoding='ISO-8859-1', area = (195, 0, 842, 595))[0]\n",
    "        df = df[~(df['PROC.'].isna())] #Lee siempre la primera línea (no encabezados) como nulo\n",
    "        max_proc = df['PROC.'].str.len().max()\n",
    "        contable_null = (pd.isna(df['CONTABLE'].unique())[0] == True)\n",
    "        df = tratar_df_brutos_de_pdf(max_proc, contable_null, df)\n",
    "        df = df.rename(columns = {df.columns[-2]: 'DESCRIPCIÓN', df.columns[-1]: 'CARGO_ABONO', 'PROC.': 'FECHA', 'CONTABLE': 'SALDO CONTABLE'})  \n",
    "        return df[['FECHA', 'DESCRIPCIÓN', 'SUC-AGE', 'NUM OP', 'HORA', 'ORIGEN', 'TIPO', 'CARGO_ABONO', 'SALDO CONTABLE']]\n",
    "        "
   ]
  },
  {
   "cell_type": "code",
   "execution_count": 195,
   "metadata": {},
   "outputs": [],
   "source": [
    "def generar_dataframe_desde_pdf(archivo):\n",
    "\n",
    "    ruta_archivo = os.path.join(input, archivo)\n",
    "    numero_paginas_pdf = obtener_numero_paginas_pdf(ruta_archivo)\n",
    "\n",
    "    dfs_temp = []\n",
    "\n",
    "    #Es numero_paginas_pdf - 1 porque la última página de los pdf siempre muestra información no relevante\n",
    "    for pagina in range(numero_paginas_pdf - 1):\n",
    "        #Es pagina + 1 porque el pdf empieza desde página 1 y el range empieza desde 0\n",
    "\n",
    "        if pagina == 0:\n",
    "            df_temp_1 = generar_dataframe_desde_pagina_pdf(ruta_archivo, pagina + 1)\n",
    "            dfs_temp.append(df_temp_1)\n",
    "\n",
    "        else:\n",
    "            df_temp_2 = generar_dataframe_desde_pagina_pdf(ruta_archivo, pagina + 1)\n",
    "            dfs_temp.append(df_temp_2)\n",
    "\n",
    "    df = pd.concat(dfs_temp)\n",
    "\n",
    "    return df"
   ]
  },
  {
   "cell_type": "code",
   "execution_count": 196,
   "metadata": {},
   "outputs": [],
   "source": [
    "archivos_xls = [file.name for file in os.scandir(input) if file.name.startswith('ci00_excel')]\n",
    "archivos_pdf = [file.name for file in os.scandir(input) if file.name.endswith('.pdf')]"
   ]
  },
  {
   "cell_type": "code",
   "execution_count": null,
   "metadata": {},
   "outputs": [],
   "source": [
    "for archivo in archivos_pdf:\n",
    "    empresa_moneda = archivo[-11:-4]\n",
    "\n",
    "    match empresa_moneda:\n",
    "        case 'BPO PEN':\n",
    "            df_BCP_BPO_PEN = generar_dataframe_desde_pdf(archivo)\n",
    "        case 'BPO USD':\n",
    "            df_BCP_BPO_USD = generar_dataframe_desde_pdf(archivo)\n",
    "        case 'SDP USD':\n",
    "            df_BCP_SDP_USD = generar_dataframe_desde_pdf(archivo)\n",
    "        case 'SDP PEN':\n",
    "            df_BCP_SDP_USD = generar_dataframe_desde_pdf(archivo)\n",
    "        case _:\n",
    "            print('Se ha detectado un caso desconocido de EMPRESA_MONEDA en los archivos pdf')"
   ]
  },
  {
   "cell_type": "code",
   "execution_count": null,
   "metadata": {},
   "outputs": [],
   "source": [
    "#Lógica suelta Página 1\n",
    "archivo = os.path.join(input, archivos_pdf[0])\n",
    "df = tabula.read_pdf(archivo, pages='1', stream=True, encoding='ISO-8859-1', area = (350, 0, 842, 595))[0]\n",
    "df.head(5)"
   ]
  },
  {
   "cell_type": "code",
   "execution_count": null,
   "metadata": {},
   "outputs": [],
   "source": [
    "generar_dataframe_desde_pdf(archivo)"
   ]
  },
  {
   "cell_type": "code",
   "execution_count": null,
   "metadata": {},
   "outputs": [],
   "source": [
    "archivo = os.path.join(input, archivos_pdf[1])\n",
    "df = tabula.read_pdf(archivo, pages='1', stream=True, encoding='ISO-8859-1', area = (350, 0, 842, 595))[0]\n",
    "df.head(5)"
   ]
  },
  {
   "cell_type": "code",
   "execution_count": null,
   "metadata": {},
   "outputs": [],
   "source": [
    "generar_dataframe_desde_pdf(archivo).head(5)"
   ]
  },
  {
   "cell_type": "code",
   "execution_count": null,
   "metadata": {},
   "outputs": [],
   "source": [
    "archivo = os.path.join(input, archivos_pdf[2])\n",
    "df = tabula.read_pdf(archivo, pages='1', stream=True, encoding='ISO-8859-1', area = (350, 0, 842, 595))[0]\n",
    "df.head(5)"
   ]
  },
  {
   "cell_type": "code",
   "execution_count": null,
   "metadata": {},
   "outputs": [],
   "source": [
    "generar_dataframe_desde_pdf(archivo).head(5)"
   ]
  },
  {
   "cell_type": "code",
   "execution_count": null,
   "metadata": {},
   "outputs": [],
   "source": [
    "archivo = os.path.join(input, archivos_pdf[3])\n",
    "df = tabula.read_pdf(archivo, pages='1', stream=True, encoding='ISO-8859-1', area = (350, 0, 842, 595))[0]\n",
    "df.head(5)"
   ]
  },
  {
   "cell_type": "code",
   "execution_count": null,
   "metadata": {},
   "outputs": [],
   "source": [
    "generar_dataframe_desde_pdf(archivo).head(5)"
   ]
  },
  {
   "cell_type": "code",
   "execution_count": null,
   "metadata": {},
   "outputs": [],
   "source": [
    "archivo = os.path.join(input, archivos_pdf[4])\n",
    "df = tabula.read_pdf(archivo, pages='1', stream=True, encoding='ISO-8859-1', area = (350, 0, 842, 595))[0]\n",
    "df.head(5)"
   ]
  },
  {
   "cell_type": "code",
   "execution_count": null,
   "metadata": {},
   "outputs": [],
   "source": [
    "generar_dataframe_desde_pdf(archivo).head(5)"
   ]
  },
  {
   "cell_type": "code",
   "execution_count": null,
   "metadata": {},
   "outputs": [],
   "source": [
    "archivo = os.path.join(input, archivos_pdf[5])\n",
    "df = tabula.read_pdf(archivo, pages='1', stream=True, encoding='ISO-8859-1', area = (350, 0, 842, 595))[0]\n",
    "df.head(5)"
   ]
  },
  {
   "cell_type": "code",
   "execution_count": null,
   "metadata": {},
   "outputs": [],
   "source": [
    "generar_dataframe_desde_pdf(archivo).head(5)"
   ]
  },
  {
   "cell_type": "code",
   "execution_count": null,
   "metadata": {},
   "outputs": [],
   "source": [
    "archivo = os.path.join(input, archivos_pdf[6])\n",
    "df = tabula.read_pdf(archivo, pages='1', stream=True, encoding='ISO-8859-1', area = (350, 0, 842, 595))[0]\n",
    "df.head(5)"
   ]
  },
  {
   "cell_type": "code",
   "execution_count": null,
   "metadata": {},
   "outputs": [],
   "source": [
    "generar_dataframe_desde_pdf(archivo).head(5)"
   ]
  },
  {
   "cell_type": "code",
   "execution_count": null,
   "metadata": {},
   "outputs": [],
   "source": [
    "archivo = os.path.join(input, archivos_pdf[7])\n",
    "df = tabula.read_pdf(archivo, pages='1', stream=True, encoding='ISO-8859-1', area = (350, 0, 842, 595))[0]\n",
    "df.head(5)"
   ]
  },
  {
   "cell_type": "code",
   "execution_count": null,
   "metadata": {},
   "outputs": [],
   "source": [
    "generar_dataframe_desde_pdf(archivo).head(5)"
   ]
  },
  {
   "cell_type": "code",
   "execution_count": null,
   "metadata": {},
   "outputs": [],
   "source": [
    "archivo = os.path.join(input, archivos_pdf[8])\n",
    "df = tabula.read_pdf(archivo, pages='1', stream=True, encoding='ISO-8859-1', area = (350, 0, 842, 595))[0]\n",
    "df.head(5)"
   ]
  },
  {
   "cell_type": "code",
   "execution_count": null,
   "metadata": {},
   "outputs": [],
   "source": [
    "generar_dataframe_desde_pdf(archivo).head(5)"
   ]
  },
  {
   "cell_type": "code",
   "execution_count": null,
   "metadata": {},
   "outputs": [],
   "source": [
    "archivo = os.path.join(input, archivos_pdf[9])\n",
    "df = tabula.read_pdf(archivo, pages='1', stream=True, encoding='ISO-8859-1', area = (350, 0, 842, 595))[0]\n",
    "df.head(5)"
   ]
  },
  {
   "cell_type": "code",
   "execution_count": null,
   "metadata": {},
   "outputs": [],
   "source": [
    "generar_dataframe_desde_pdf(archivo).head(5)"
   ]
  },
  {
   "cell_type": "code",
   "execution_count": null,
   "metadata": {},
   "outputs": [],
   "source": [
    "archivo = os.path.join(input, archivos_pdf[10])\n",
    "df = tabula.read_pdf(archivo, pages='1', stream=True, encoding='ISO-8859-1', area = (350, 0, 842, 595))[0]\n",
    "df.head(5)"
   ]
  },
  {
   "cell_type": "code",
   "execution_count": null,
   "metadata": {},
   "outputs": [],
   "source": [
    "generar_dataframe_desde_pdf(archivo).head(5)"
   ]
  },
  {
   "cell_type": "code",
   "execution_count": null,
   "metadata": {},
   "outputs": [],
   "source": [
    "archivo = os.path.join(input, archivos_pdf[11])\n",
    "df = tabula.read_pdf(archivo, pages='1', stream=True, encoding='ISO-8859-1', area = (350, 0, 842, 595))[0]\n",
    "df.head(5)"
   ]
  },
  {
   "cell_type": "code",
   "execution_count": null,
   "metadata": {},
   "outputs": [],
   "source": []
  },
  {
   "cell_type": "code",
   "execution_count": 238,
   "metadata": {},
   "outputs": [
    {
     "ename": "IndexError",
     "evalue": "list index out of range",
     "output_type": "error",
     "traceback": [
      "\u001b[1;31m---------------------------------------------------------------------------\u001b[0m",
      "\u001b[1;31mIndexError\u001b[0m                                Traceback (most recent call last)",
      "Cell \u001b[1;32mIn[238], line 1\u001b[0m\n\u001b[1;32m----> 1\u001b[0m archivo \u001b[38;5;241m=\u001b[39m os\u001b[38;5;241m.\u001b[39mpath\u001b[38;5;241m.\u001b[39mjoin(\u001b[38;5;28minput\u001b[39m, \u001b[43marchivos_pdf\u001b[49m\u001b[43m[\u001b[49m\u001b[38;5;241;43m12\u001b[39;49m\u001b[43m]\u001b[49m)\n\u001b[0;32m      2\u001b[0m df \u001b[38;5;241m=\u001b[39m tabula\u001b[38;5;241m.\u001b[39mread_pdf(archivo, pages\u001b[38;5;241m=\u001b[39m\u001b[38;5;124m'\u001b[39m\u001b[38;5;124m2\u001b[39m\u001b[38;5;124m'\u001b[39m, stream\u001b[38;5;241m=\u001b[39m\u001b[38;5;28;01mTrue\u001b[39;00m, encoding\u001b[38;5;241m=\u001b[39m\u001b[38;5;124m'\u001b[39m\u001b[38;5;124mISO-8859-1\u001b[39m\u001b[38;5;124m'\u001b[39m, area \u001b[38;5;241m=\u001b[39m (\u001b[38;5;241m195\u001b[39m, \u001b[38;5;241m0\u001b[39m, \u001b[38;5;241m842\u001b[39m, \u001b[38;5;241m595\u001b[39m))[\u001b[38;5;241m0\u001b[39m]\n\u001b[0;32m      3\u001b[0m df\u001b[38;5;241m.\u001b[39mhead(\u001b[38;5;241m5\u001b[39m)\n",
      "\u001b[1;31mIndexError\u001b[0m: list index out of range"
     ]
    }
   ],
   "source": [
    "archivo = os.path.join(input, archivos_pdf[12])\n",
    "df = tabula.read_pdf(archivo, pages='2', stream=True, encoding='ISO-8859-1', area = (195, 0, 842, 595))[0]\n",
    "df.head(5)"
   ]
  },
  {
   "cell_type": "code",
   "execution_count": 236,
   "metadata": {},
   "outputs": [
    {
     "data": {
      "text/plain": [
       "'C:\\\\David\\\\Desarrollos\\\\02_Procesos\\\\09_Control_de_Saldos\\\\02_Python\\\\01_Input\\\\EECC_Set2024 SDP USD.pdf'"
      ]
     },
     "execution_count": 236,
     "metadata": {},
     "output_type": "execute_result"
    }
   ],
   "source": [
    "archivo"
   ]
  },
  {
   "cell_type": "code",
   "execution_count": 237,
   "metadata": {},
   "outputs": [
    {
     "name": "stdout",
     "output_type": "stream",
     "text": [
      "5 False\n"
     ]
    },
    {
     "data": {
      "text/html": [
       "<div>\n",
       "<style scoped>\n",
       "    .dataframe tbody tr th:only-of-type {\n",
       "        vertical-align: middle;\n",
       "    }\n",
       "\n",
       "    .dataframe tbody tr th {\n",
       "        vertical-align: top;\n",
       "    }\n",
       "\n",
       "    .dataframe thead th {\n",
       "        text-align: right;\n",
       "    }\n",
       "</style>\n",
       "<table border=\"1\" class=\"dataframe\">\n",
       "  <thead>\n",
       "    <tr style=\"text-align: right;\">\n",
       "      <th></th>\n",
       "      <th>FECHA</th>\n",
       "      <th>DESCRIPCIÓN</th>\n",
       "      <th>SUC-AGE</th>\n",
       "      <th>NUM OP</th>\n",
       "      <th>HORA</th>\n",
       "      <th>ORIGEN</th>\n",
       "      <th>TIPO</th>\n",
       "      <th>CARGO_ABONO</th>\n",
       "      <th>SALDO CONTABLE</th>\n",
       "    </tr>\n",
       "  </thead>\n",
       "  <tbody>\n",
       "    <tr>\n",
       "      <th>0</th>\n",
       "      <td>04-09</td>\n",
       "      <td>TRANSF.BCO.BBVAVEN SUC LIMA</td>\n",
       "      <td>191-000</td>\n",
       "      <td>13589.0</td>\n",
       "      <td>09:17</td>\n",
       "      <td>RCJN</td>\n",
       "      <td>2014</td>\n",
       "      <td>1,200.00</td>\n",
       "      <td>1,355.30</td>\n",
       "    </tr>\n",
       "    <tr>\n",
       "      <th>1</th>\n",
       "      <td>04-09</td>\n",
       "      <td>IMPUESTO ITFINT</td>\n",
       "      <td>-</td>\n",
       "      <td>NaN</td>\n",
       "      <td>NaN</td>\n",
       "      <td>NaN</td>\n",
       "      <td>909</td>\n",
       "      <td>.05-</td>\n",
       "      <td>1,355.25</td>\n",
       "    </tr>\n",
       "    <tr>\n",
       "      <th>2</th>\n",
       "      <td>05-09</td>\n",
       "      <td>PTMO.LOC.PRE EMBARQUE  INT</td>\n",
       "      <td>191-000</td>\n",
       "      <td>151155.0</td>\n",
       "      <td>15:11</td>\n",
       "      <td>NaN</td>\n",
       "      <td>2501</td>\n",
       "      <td>799,996.50</td>\n",
       "      <td>801,351.75</td>\n",
       "    </tr>\n",
       "    <tr>\n",
       "      <th>3</th>\n",
       "      <td>05-09</td>\n",
       "      <td>IMPUESTO ITFINT</td>\n",
       "      <td>-</td>\n",
       "      <td>NaN</td>\n",
       "      <td>NaN</td>\n",
       "      <td>NaN</td>\n",
       "      <td>909</td>\n",
       "      <td>39.95-</td>\n",
       "      <td>801,311.80</td>\n",
       "    </tr>\n",
       "    <tr>\n",
       "      <th>4</th>\n",
       "      <td>10-09</td>\n",
       "      <td>A 191 8744772 1TLC</td>\n",
       "      <td>111-065</td>\n",
       "      <td>13242.0</td>\n",
       "      <td>08:50</td>\n",
       "      <td>OBE962</td>\n",
       "      <td>4401</td>\n",
       "      <td>522,441.32-</td>\n",
       "      <td>278,870.48</td>\n",
       "    </tr>\n",
       "    <tr>\n",
       "      <th>5</th>\n",
       "      <td>10-09</td>\n",
       "      <td>IMPUESTO ITFINT</td>\n",
       "      <td>-</td>\n",
       "      <td>NaN</td>\n",
       "      <td>NaN</td>\n",
       "      <td>NaN</td>\n",
       "      <td>909</td>\n",
       "      <td>26.10-</td>\n",
       "      <td>278,844.38</td>\n",
       "    </tr>\n",
       "    <tr>\n",
       "      <th>6</th>\n",
       "      <td>13-09</td>\n",
       "      <td>DE INDUSTRIAS OLEAGINO TLC</td>\n",
       "      <td>111-065</td>\n",
       "      <td>278343.0</td>\n",
       "      <td>16:26</td>\n",
       "      <td>OBED84</td>\n",
       "      <td>2401</td>\n",
       "      <td>600.01</td>\n",
       "      <td>279,444.39</td>\n",
       "    </tr>\n",
       "    <tr>\n",
       "      <th>7</th>\n",
       "      <td>14-09</td>\n",
       "      <td>DE OLEAGINOSAS AMAZONI TLC</td>\n",
       "      <td>111-008</td>\n",
       "      <td>699335.0</td>\n",
       "      <td>11:19</td>\n",
       "      <td>TNP100</td>\n",
       "      <td>2401</td>\n",
       "      <td>1,100.00</td>\n",
       "      <td>280,544.39</td>\n",
       "    </tr>\n",
       "    <tr>\n",
       "      <th>8</th>\n",
       "      <td>15-09</td>\n",
       "      <td>IMPUESTO ITFINT</td>\n",
       "      <td>-</td>\n",
       "      <td>NaN</td>\n",
       "      <td>NaN</td>\n",
       "      <td>NaN</td>\n",
       "      <td>909</td>\n",
       "      <td>.05-</td>\n",
       "      <td>280,544.34</td>\n",
       "    </tr>\n",
       "    <tr>\n",
       "      <th>9</th>\n",
       "      <td>16-09</td>\n",
       "      <td>BCR-CONTINENTALINT</td>\n",
       "      <td>111-005</td>\n",
       "      <td>996074.0</td>\n",
       "      <td>09:22</td>\n",
       "      <td>BOLMCQ</td>\n",
       "      <td>4503</td>\n",
       "      <td>29,814.00-</td>\n",
       "      <td>250,730.34</td>\n",
       "    </tr>\n",
       "    <tr>\n",
       "      <th>10</th>\n",
       "      <td>16-09</td>\n",
       "      <td>BCR-CONTINENTALINT</td>\n",
       "      <td>111-005</td>\n",
       "      <td>996062.0</td>\n",
       "      <td>09:22</td>\n",
       "      <td>BOLMCQ</td>\n",
       "      <td>4503</td>\n",
       "      <td>234,074.76-</td>\n",
       "      <td>16,655.58</td>\n",
       "    </tr>\n",
       "    <tr>\n",
       "      <th>11</th>\n",
       "      <td>16-09</td>\n",
       "      <td>IMPUESTO ITFINT</td>\n",
       "      <td>-</td>\n",
       "      <td>NaN</td>\n",
       "      <td>NaN</td>\n",
       "      <td>NaN</td>\n",
       "      <td>909</td>\n",
       "      <td>13.15-</td>\n",
       "      <td>16,642.43</td>\n",
       "    </tr>\n",
       "    <tr>\n",
       "      <th>12</th>\n",
       "      <td>30-09</td>\n",
       "      <td>ENVIO.EST.CTA¥ INT</td>\n",
       "      <td>194-000</td>\n",
       "      <td>118481.0</td>\n",
       "      <td>NaN</td>\n",
       "      <td>NaN</td>\n",
       "      <td>4991</td>\n",
       "      <td>2.00-</td>\n",
       "      <td>16,640.43</td>\n",
       "    </tr>\n",
       "    <tr>\n",
       "      <th>13</th>\n",
       "      <td>30-09</td>\n",
       "      <td>COM.MANTENIM¥ INT</td>\n",
       "      <td>-</td>\n",
       "      <td>NaN</td>\n",
       "      <td>NaN</td>\n",
       "      <td>NaN</td>\n",
       "      <td>101</td>\n",
       "      <td>14.00-</td>\n",
       "      <td>16,626.43</td>\n",
       "    </tr>\n",
       "  </tbody>\n",
       "</table>\n",
       "</div>"
      ],
      "text/plain": [
       "    FECHA                  DESCRIPCIÓN  SUC-AGE    NUM OP   HORA  ORIGEN  \\\n",
       "0   04-09  TRANSF.BCO.BBVAVEN SUC LIMA  191-000   13589.0  09:17    RCJN   \n",
       "1   04-09              IMPUESTO ITFINT        -       NaN    NaN     NaN   \n",
       "2   05-09   PTMO.LOC.PRE EMBARQUE  INT  191-000  151155.0  15:11     NaN   \n",
       "3   05-09              IMPUESTO ITFINT        -       NaN    NaN     NaN   \n",
       "4   10-09           A 191 8744772 1TLC  111-065   13242.0  08:50  OBE962   \n",
       "5   10-09              IMPUESTO ITFINT        -       NaN    NaN     NaN   \n",
       "6   13-09   DE INDUSTRIAS OLEAGINO TLC  111-065  278343.0  16:26  OBED84   \n",
       "7   14-09   DE OLEAGINOSAS AMAZONI TLC  111-008  699335.0  11:19  TNP100   \n",
       "8   15-09              IMPUESTO ITFINT        -       NaN    NaN     NaN   \n",
       "9   16-09           BCR-CONTINENTALINT  111-005  996074.0  09:22  BOLMCQ   \n",
       "10  16-09           BCR-CONTINENTALINT  111-005  996062.0  09:22  BOLMCQ   \n",
       "11  16-09              IMPUESTO ITFINT        -       NaN    NaN     NaN   \n",
       "12  30-09           ENVIO.EST.CTA¥ INT  194-000  118481.0    NaN     NaN   \n",
       "13  30-09            COM.MANTENIM¥ INT        -       NaN    NaN     NaN   \n",
       "\n",
       "    TIPO  CARGO_ABONO SALDO CONTABLE  \n",
       "0   2014     1,200.00       1,355.30  \n",
       "1    909         .05-       1,355.25  \n",
       "2   2501   799,996.50     801,351.75  \n",
       "3    909       39.95-     801,311.80  \n",
       "4   4401  522,441.32-     278,870.48  \n",
       "5    909       26.10-     278,844.38  \n",
       "6   2401       600.01     279,444.39  \n",
       "7   2401     1,100.00     280,544.39  \n",
       "8    909         .05-     280,544.34  \n",
       "9   4503   29,814.00-     250,730.34  \n",
       "10  4503  234,074.76-      16,655.58  \n",
       "11   909       13.15-      16,642.43  \n",
       "12  4991        2.00-      16,640.43  \n",
       "13   101       14.00-      16,626.43  "
      ]
     },
     "execution_count": 237,
     "metadata": {},
     "output_type": "execute_result"
    }
   ],
   "source": [
    "generar_dataframe_desde_pdf(archivo)"
   ]
  },
  {
   "cell_type": "code",
   "execution_count": null,
   "metadata": {},
   "outputs": [],
   "source": []
  }
 ],
 "metadata": {
  "kernelspec": {
   "display_name": "Python 3",
   "language": "python",
   "name": "python3"
  },
  "language_info": {
   "codemirror_mode": {
    "name": "ipython",
    "version": 3
   },
   "file_extension": ".py",
   "mimetype": "text/x-python",
   "name": "python",
   "nbconvert_exporter": "python",
   "pygments_lexer": "ipython3",
   "version": "3.12.4"
  }
 },
 "nbformat": 4,
 "nbformat_minor": 2
}
